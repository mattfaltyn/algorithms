{
  "nbformat": 4,
  "nbformat_minor": 0,
  "metadata": {
    "colab": {
      "name": "mergeSort.ipynb",
      "provenance": [],
      "collapsed_sections": []
    },
    "kernelspec": {
      "name": "python3",
      "display_name": "Python 3"
    },
    "language_info": {
      "name": "python"
    }
  },
  "cells": [
    {
      "cell_type": "code",
      "execution_count": 1,
      "metadata": {
        "id": "HIMIDmD0Q7UC"
      },
      "outputs": [],
      "source": [
        "## Import libraries\n",
        "import numpy as np\n",
        "from numpy import random"
      ]
    },
    {
      "cell_type": "code",
      "source": [
        "## Define function\n",
        "def mergeSort(A):\n",
        "\n",
        "  if len(A) > 1:\n",
        "    \n",
        "    # Find midpoint of A\n",
        "    m = len(A)//2\n",
        "\n",
        "    # Divide A into two halves\n",
        "    L = A[:m]\n",
        "    R = A[m:]\n",
        "    \n",
        "    # Sort both halves\n",
        "    mergeSort(L)\n",
        "    mergeSort(R)\n",
        "\n",
        "    # Initiate indices \n",
        "    i = j = k = 0\n",
        "\n",
        "    # Create temporary arrays \n",
        "    while i < len(L) and j < len(R):\n",
        "              if L[i] < R[j]:\n",
        "                  A[k] = L[i]\n",
        "                  i += 1\n",
        "              else:\n",
        "                  A[k] = R[j]\n",
        "                  j += 1\n",
        "              k += 1\n",
        "\n",
        "    # Check to see if there are any remaining elements\n",
        "    while i < len(L):\n",
        "      A[k] = L[i]\n",
        "      i += 1\n",
        "      k += 1\n",
        "\n",
        "    while j < len(R):\n",
        "      A[k] = R[j]\n",
        "      j += 1\n",
        "      k += 1"
      ],
      "metadata": {
        "id": "ih6cUNy4RAQu"
      },
      "execution_count": 2,
      "outputs": []
    },
    {
      "cell_type": "code",
      "source": [
        "## Test function\n",
        "B = np.random.randint(1,np.random.randint(100),np.random.randint(10))\n",
        "mergeSort(B)\n",
        "for i in range(1,len(B)):\n",
        "    assert (B[i]) >= (B[i-1])"
      ],
      "metadata": {
        "id": "gw32-oYYRI1K"
      },
      "execution_count": 3,
      "outputs": []
    }
  ]
}