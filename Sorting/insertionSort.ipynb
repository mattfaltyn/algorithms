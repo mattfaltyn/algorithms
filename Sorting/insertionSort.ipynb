{
  "nbformat": 4,
  "nbformat_minor": 0,
  "metadata": {
    "colab": {
      "name": "insertionSort.ipynb",
      "provenance": [],
      "collapsed_sections": []
    },
    "kernelspec": {
      "name": "python3",
      "display_name": "Python 3"
    },
    "language_info": {
      "name": "python"
    }
  },
  "cells": [
    {
      "cell_type": "code",
      "execution_count": 1,
      "metadata": {
        "id": "55lqjUnvAYRB"
      },
      "outputs": [],
      "source": [
        "## Import libraries\n",
        "import numpy as np\n",
        "from numpy import random"
      ]
    },
    {
      "cell_type": "code",
      "source": [
        "## Define function\n",
        "def InsertionSort(A):\n",
        "  for i in range(1, len(A)):\n",
        "    key = A[i]\n",
        "    j = i - 1\n",
        "    while j >= 0 and A[j] > key:\n",
        "      A[j+1] = A[j]\n",
        "      j -= 1\n",
        "    A[j+1] = key"
      ],
      "metadata": {
        "id": "ao5YrSEsFwyu"
      },
      "execution_count": 2,
      "outputs": []
    },
    {
      "cell_type": "code",
      "source": [
        "## Test function\n",
        "B = np.random.randint(1,np.random.randint(1000),np.random.randint(100))\n",
        "InsertionSort(B)\n",
        "for i in range(1,len(B)):\n",
        "    assert (B[i]) >= (B[i-1])"
      ],
      "metadata": {
        "id": "S2zNsEaHREt4"
      },
      "execution_count": 22,
      "outputs": []
    }
  ]
}